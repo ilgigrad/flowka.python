{
 "cells": [
  {
   "cell_type": "code",
   "execution_count": 1,
   "metadata": {
    "collapsed": true
   },
   "outputs": [],
   "source": [
    "import pandas as pd\n",
    "from flowkapd import fpd\n",
    "from flowkamo import fmo\n",
    "from flowkapr import predictsave\n",
    "pd.set_option('display.max_columns', 500)\n",
    "import warnings\n",
    "warnings.filterwarnings(\"ignore\")"
   ]
  },
  {
   "cell_type": "code",
   "execution_count": 2,
   "metadata": {
    "collapsed": false
   },
   "outputs": [
    {
     "name": "stdout",
     "output_type": "stream",
     "text": [
      "algos : ['forClass', 'treeClass', 'svm', 'logRegr', 'knn']\n",
      "forClass\n",
      "forClass : Random Forest Classifier\n",
      "Error:0.043333333333333335\n",
      "treeClass\n",
      "treeClass : Decision Tree Classifier\n",
      "Error:0.05333333333333334\n",
      "svm\n",
      "svm : Support Vector Machine\n",
      "Error:0.03666666666666667\n",
      "logRegr\n",
      "logRegr : Logistic Regression\n",
      "Error:0.03333333333333333\n",
      "knn\n",
      "knn : k-Nearest Neighbors\n",
      "k = 13 - error rate = 0.08\n",
      "Error:0.08\n",
      "choose : logRegr\n",
      "\n",
      "logRegr : Logistic Regression\n",
      "model ./work/flowka_model_advertising.dat saved\n"
     ]
    }
   ],
   "source": [
    "dataset=fpd(pd.read_csv(\"http://www.ladrauniere.fr/opendata/advertising.csv\"),'advertising')\n",
    "dataset._talk.quiet\n",
    "dataset.batch()\n",
    "mo=fmo(dataset)\n",
    "mo.scale()\n",
    "mo.best_predict(mo.detect_algo())\n",
    "mo.reports\n",
    "mo.save_model()"
   ]
  },
  {
   "cell_type": "code",
   "execution_count": 3,
   "metadata": {
    "collapsed": true
   },
   "outputs": [],
   "source": [
    "manual={\n",
    "'Clicked on Ad': [1,0,0,1],\n",
    "'Timestamp': ['2016-02-15 07:27:41','2016-01-27 16:06:05','2016-03-18 17:35:40','2016-03-28 09:15:58'],\n",
    "'Ad Topic Line': ['Stand-alone motivating moratorium','User-centric discrete success','Function-based fault-tolerant model','Configurable interactive contingency'],\n",
    "'Daily Time Spent on Site': [66.120000000000005,72.81,65.76,41.16],\n",
    "'City': ['South Alexisborough','Jonesmouth','Contrerasshire','Hendrixmouth'],\n",
    "'Country': [\"Cote d'Ivoire\",'Czech Republic','Eritrea','Venezuela'],\n",
    "'Area Income': [39031.89,75769.82,42162.9,59448.4],\n",
    "'Male': [0,1,1,1],\n",
    "'Daily Internet Usage': [113.8,191.81,218.6,150.83],\n",
    "'Age': [49,34,21,49] \n",
    "}"
   ]
  },
  {
   "cell_type": "code",
   "execution_count": 16,
   "metadata": {
    "collapsed": false
   },
   "outputs": [
    {
     "name": "stdout",
     "output_type": "stream",
     "text": [
      "model ./work/flowka_model_advertising.dat loaded\n",
      "data exported to ./work/pred_advertising.csv\n"
     ]
    },
    {
     "data": {
      "text/html": [
       "<div>\n",
       "<style>\n",
       "    .dataframe thead tr:only-child th {\n",
       "        text-align: right;\n",
       "    }\n",
       "\n",
       "    .dataframe thead th {\n",
       "        text-align: left;\n",
       "    }\n",
       "\n",
       "    .dataframe tbody tr th {\n",
       "        vertical-align: top;\n",
       "    }\n",
       "</style>\n",
       "<table border=\"1\" class=\"dataframe\">\n",
       "  <thead>\n",
       "    <tr style=\"text-align: right;\">\n",
       "      <th></th>\n",
       "      <th>Age</th>\n",
       "      <th>Area Income</th>\n",
       "      <th>Country</th>\n",
       "      <th>Daily Internet Usage</th>\n",
       "      <th>Daily Time Spent on Site</th>\n",
       "      <th>Male</th>\n",
       "      <th>City</th>\n",
       "      <th>Ad Topic Line</th>\n",
       "      <th>Timestamp</th>\n",
       "      <th>logRegr</th>\n",
       "    </tr>\n",
       "  </thead>\n",
       "  <tbody>\n",
       "    <tr>\n",
       "      <th>0</th>\n",
       "      <td>30</td>\n",
       "      <td>60000.0</td>\n",
       "      <td>France</td>\n",
       "      <td>200.51</td>\n",
       "      <td>80.0</td>\n",
       "      <td>0</td>\n",
       "      <td>Paris</td>\n",
       "      <td>Multi-tiered real-time implementation</td>\n",
       "      <td>2016-05-01 15:00:19</td>\n",
       "      <td>0</td>\n",
       "    </tr>\n",
       "  </tbody>\n",
       "</table>\n",
       "</div>"
      ],
      "text/plain": [
       "   Age  Area Income Country  Daily Internet Usage  Daily Time Spent on Site  \\\n",
       "0   30      60000.0  France                200.51                      80.0   \n",
       "\n",
       "   Male   City                          Ad Topic Line            Timestamp  \\\n",
       "0     0  Paris  Multi-tiered real-time implementation  2016-05-01 15:00:19   \n",
       "\n",
       "   logRegr  \n",
       "0        0  "
      ]
     },
     "execution_count": 16,
     "metadata": {},
     "output_type": "execute_result"
    }
   ],
   "source": [
    "predictsave(pd.DataFrame(manual),'advertising')"
   ]
  },
  {
   "cell_type": "code",
   "execution_count": 15,
   "metadata": {
    "collapsed": false
   },
   "outputs": [],
   "source": [
    "manual={'Daily Time Spent on Site' : [80.00],'Age' : [30],'Area Income' : [60000.00],'Daily Internet Usage' : [200.51],'Male' : [0],'Country' : ['France'],'City' : ['Paris'],'Ad Topic Line' : ['Multi-tiered real-time implementation'],'Timestamp' : ['2016-05-01 15:00:19']}"
   ]
  },
  {
   "cell_type": "code",
   "execution_count": null,
   "metadata": {
    "collapsed": true
   },
   "outputs": [],
   "source": []
  }
 ],
 "metadata": {
  "kernelspec": {
   "display_name": "Python 3",
   "language": "python",
   "name": "python3"
  },
  "language_info": {
   "codemirror_mode": {
    "name": "ipython",
    "version": 3
   },
   "file_extension": ".py",
   "mimetype": "text/x-python",
   "name": "python",
   "nbconvert_exporter": "python",
   "pygments_lexer": "ipython3",
   "version": "3.5.4"
  }
 },
 "nbformat": 4,
 "nbformat_minor": 0
}
