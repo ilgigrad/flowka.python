{
 "cells": [
  {
   "cell_type": "markdown",
   "metadata": {},
   "source": [
    "# DATA ANALYSIS TEMPLATE\n",
    "\n",
    "provide a template for machine learning data analysis"
   ]
  },
  {
   "cell_type": "markdown",
   "metadata": {},
   "source": [
    "# import libraries"
   ]
  },
  {
   "cell_type": "code",
   "execution_count": 1,
   "metadata": {
    "collapsed": false
   },
   "outputs": [],
   "source": [
    "import pandas as pd\n",
    "import numpy as np\n",
    "import matplotlib.pyplot as plt\n",
    "import seaborn as sns\n",
    "import datetime as dt\n",
    "%matplotlib inline\n",
    "from flowkapd import fpd\n",
    "from flowkacol import fcol\n",
    "from flowkapr import *\n",
    "from flowkafunc import unionlist,nvl,talk,isinlist\n",
    "pd.set_option('display.max_columns', 500)\n",
    "talk=False\n",
    "import warnings\n",
    "warnings.filterwarnings(\"ignore\")"
   ]
  },
  {
   "cell_type": "markdown",
   "metadata": {},
   "source": [
    "# Parameters"
   ]
  },
  {
   "cell_type": "markdown",
   "metadata": {},
   "source": [
    "** set algo and dataset name **"
   ]
  },
  {
   "cell_type": "code",
   "execution_count": 2,
   "metadata": {
    "collapsed": true
   },
   "outputs": [],
   "source": [
    "files={'auto'   : \"http://www-bcf.usc.edu/~gareth/ISL/Auto.csv\",\n",
    "       'college': \"http://www-bcf.usc.edu/~gareth/ISL/College.csv\",\n",
    "       'credit' : \"http://www-bcf.usc.edu/~gareth/ISL/Credit.csv\",\n",
    "       'heart'  : \"http://www-bcf.usc.edu/~gareth/ISL/Heart.csv\",\n",
    "       'customers':\"http://www.ladrauniere.fr/opendata/Ecommerce_Customers.csv\",\n",
    "       'advertising': \"http://www.ladrauniere.fr/opendata/advertising.csv\",\n",
    "       'salaries': \"http://www.ladrauniere.fr/opendata/Position_Salaries.csv\",\n",
    "       'startups': \"http://www.ladrauniere.fr/opendata/50_Startups.csv\",\n",
    "       'kyphosis': \"http://www.ladrauniere.fr/opendata/kyphosis.csv\",\n",
    "       'loan': \"http://www.ladrauniere.fr/opendata/loan_data.csv\",\n",
    "       'housing': \"http://www.ladrauniere.fr/opendata/USA_Housing.csv\",\n",
    "       'titanic': \"http://www.ladrauniere.fr/opendata/titanic.csv\",\n",
    "       'iris': \"http://www.ladrauniere.fr/opendata/iris.csv\",\n",
    "      }"
   ]
  },
  {
   "cell_type": "markdown",
   "metadata": {},
   "source": [
    "# get data"
   ]
  },
  {
   "cell_type": "code",
   "execution_count": 3,
   "metadata": {
    "collapsed": false
   },
   "outputs": [
    {
     "name": "stdout",
     "output_type": "stream",
     "text": [
      "flowka.fpd version is 0.25\n"
     ]
    },
    {
     "data": {
      "text/plain": [
       "False"
      ]
     },
     "execution_count": 3,
     "metadata": {},
     "output_type": "execute_result"
    }
   ],
   "source": [
    "name='advertising'\n",
    "mode='distant'\n",
    "if mode=='local':\n",
    "    dataset=fpd(pd.read_csv('/home/david/PythonProjects/data'+name+'.csv'),name)\n",
    "else: \n",
    "    dataset=fpd(pd.read_csv(files[name]),name)\n",
    "print(dataset.version)\n",
    "\n",
    "dataset._talk.quiet#/dataset._talk.quiet"
   ]
  },
  {
   "cell_type": "code",
   "execution_count": 4,
   "metadata": {
    "collapsed": false
   },
   "outputs": [],
   "source": [
    "#HTML Files    \n",
    "#run = pd.read_html(\"http://www.kikourou.net/resultats/resultat-109864-eco-trail_de_paris_ile_de_france_-_80_km-2017.html\",attrs={'id':'results'},header=0)\n",
    "#dataset=fpd(run[0],'run')\n",
    "#dataset=fpd(pd.read_csv('./work/fried.csv'),'fried')\n",
    "#pd.read_html importe une liste de DataFrames (il peut y avoir plusieurs tables dans une page html)\n",
    "#par exemple :\n",
    "#data=pd.read_html(\"page.html\")\n",
    "#table=data[0]"
   ]
  },
  {
   "cell_type": "markdown",
   "metadata": {},
   "source": [
    "# import METADATA"
   ]
  },
  {
   "cell_type": "code",
   "execution_count": 5,
   "metadata": {
    "collapsed": false
   },
   "outputs": [
    {
     "name": "stdout",
     "output_type": "stream",
     "text": [
      "import metadata from ./work/flowka_metadata_info.dat\n",
      "SUGGESTED : {'drop': \"['Ad Topic Line', 'City']\", 'ordinals': nan, 'frequencies': \"['Country']\", 'clusters': nan, 'category': \"['Ad Topic Line', 'City', 'Country', 'Timestamp']\", 'algo': 'forClass', 'targets': 'Clicked on Ad', 'dummies': '[]'}\n"
     ]
    }
   ],
   "source": [
    "dataset.fmd.load()\n",
    "print(\"SUGGESTED : {0}\".format(dataset.fmd.suggested_param()))"
   ]
  },
  {
   "cell_type": "markdown",
   "metadata": {},
   "source": [
    "# colors"
   ]
  },
  {
   "cell_type": "code",
   "execution_count": 6,
   "metadata": {
    "collapsed": true
   },
   "outputs": [],
   "source": [
    "sns.set_style('whitegrid')\n",
    "dataset.fcol.palette=None\n",
    "dataset.fcol.cmap=None\n",
    "dataset.fcol.color=None"
   ]
  },
  {
   "cell_type": "markdown",
   "metadata": {},
   "source": [
    "# data summary"
   ]
  },
  {
   "cell_type": "markdown",
   "metadata": {},
   "source": [
    "** build a new info function ** <br/>\n",
    "provide some details informations about distincts and nans <br/>\n"
   ]
  },
  {
   "cell_type": "code",
   "execution_count": 8,
   "metadata": {
    "collapsed": false
   },
   "outputs": [
    {
     "data": {
      "text/html": [
       "<div>\n",
       "<style>\n",
       "    .dataframe thead tr:only-child th {\n",
       "        text-align: right;\n",
       "    }\n",
       "\n",
       "    .dataframe thead th {\n",
       "        text-align: left;\n",
       "    }\n",
       "\n",
       "    .dataframe tbody tr th {\n",
       "        vertical-align: top;\n",
       "    }\n",
       "</style>\n",
       "<table border=\"1\" class=\"dataframe\">\n",
       "  <thead>\n",
       "    <tr style=\"text-align: right;\">\n",
       "      <th></th>\n",
       "      <th>Ad Topic Line</th>\n",
       "      <th>Age</th>\n",
       "      <th>Area Income</th>\n",
       "      <th>City</th>\n",
       "      <th>Clicked on Ad</th>\n",
       "      <th>Country</th>\n",
       "      <th>Daily Internet Usage</th>\n",
       "      <th>Daily Time Spent on Site</th>\n",
       "      <th>Male</th>\n",
       "      <th>Timestamp</th>\n",
       "    </tr>\n",
       "  </thead>\n",
       "  <tbody>\n",
       "    <tr>\n",
       "      <th>10%</th>\n",
       "      <td>NaN</td>\n",
       "      <td>26</td>\n",
       "      <td>34942.3</td>\n",
       "      <td>NaN</td>\n",
       "      <td>0</td>\n",
       "      <td>NaN</td>\n",
       "      <td>120.37</td>\n",
       "      <td>41.28</td>\n",
       "      <td>0</td>\n",
       "      <td>NaN</td>\n",
       "    </tr>\n",
       "    <tr>\n",
       "      <th>25%</th>\n",
       "      <td>NaN</td>\n",
       "      <td>29</td>\n",
       "      <td>46974.2</td>\n",
       "      <td>NaN</td>\n",
       "      <td>0</td>\n",
       "      <td>NaN</td>\n",
       "      <td>138.71</td>\n",
       "      <td>51.3</td>\n",
       "      <td>0</td>\n",
       "      <td>NaN</td>\n",
       "    </tr>\n",
       "    <tr>\n",
       "      <th>50%</th>\n",
       "      <td>NaN</td>\n",
       "      <td>35</td>\n",
       "      <td>57012.3</td>\n",
       "      <td>NaN</td>\n",
       "      <td>0.5</td>\n",
       "      <td>NaN</td>\n",
       "      <td>183.13</td>\n",
       "      <td>68.215</td>\n",
       "      <td>0</td>\n",
       "      <td>NaN</td>\n",
       "    </tr>\n",
       "    <tr>\n",
       "      <th>75%</th>\n",
       "      <td>NaN</td>\n",
       "      <td>42</td>\n",
       "      <td>65496.8</td>\n",
       "      <td>NaN</td>\n",
       "      <td>1</td>\n",
       "      <td>NaN</td>\n",
       "      <td>218.8</td>\n",
       "      <td>78.57</td>\n",
       "      <td>1</td>\n",
       "      <td>NaN</td>\n",
       "    </tr>\n",
       "    <tr>\n",
       "      <th>90%</th>\n",
       "      <td>NaN</td>\n",
       "      <td>49</td>\n",
       "      <td>70510.6</td>\n",
       "      <td>NaN</td>\n",
       "      <td>1</td>\n",
       "      <td>NaN</td>\n",
       "      <td>236.19</td>\n",
       "      <td>83.91</td>\n",
       "      <td>1</td>\n",
       "      <td>NaN</td>\n",
       "    </tr>\n",
       "    <tr>\n",
       "      <th>count</th>\n",
       "      <td>1000</td>\n",
       "      <td>1000</td>\n",
       "      <td>1000</td>\n",
       "      <td>1000</td>\n",
       "      <td>1000</td>\n",
       "      <td>1000</td>\n",
       "      <td>1000</td>\n",
       "      <td>1000</td>\n",
       "      <td>1000</td>\n",
       "      <td>1000</td>\n",
       "    </tr>\n",
       "    <tr>\n",
       "      <th>distinct</th>\n",
       "      <td>1000</td>\n",
       "      <td>43</td>\n",
       "      <td>1000</td>\n",
       "      <td>969</td>\n",
       "      <td>2</td>\n",
       "      <td>237</td>\n",
       "      <td>966</td>\n",
       "      <td>900</td>\n",
       "      <td>2</td>\n",
       "      <td>1000</td>\n",
       "    </tr>\n",
       "    <tr>\n",
       "      <th>distratio</th>\n",
       "      <td>1</td>\n",
       "      <td>0.043</td>\n",
       "      <td>1</td>\n",
       "      <td>0.969</td>\n",
       "      <td>0.002</td>\n",
       "      <td>0.237</td>\n",
       "      <td>0.966</td>\n",
       "      <td>0.9</td>\n",
       "      <td>0.002</td>\n",
       "      <td>1</td>\n",
       "    </tr>\n",
       "    <tr>\n",
       "      <th>dtype</th>\n",
       "      <td>category</td>\n",
       "      <td>int64</td>\n",
       "      <td>float64</td>\n",
       "      <td>category</td>\n",
       "      <td>int64</td>\n",
       "      <td>category</td>\n",
       "      <td>float64</td>\n",
       "      <td>float64</td>\n",
       "      <td>int64</td>\n",
       "      <td>category</td>\n",
       "    </tr>\n",
       "    <tr>\n",
       "      <th>max</th>\n",
       "      <td>Visionary reciprocal circuit</td>\n",
       "      <td>61</td>\n",
       "      <td>79484.8</td>\n",
       "      <td>Zacharyton</td>\n",
       "      <td>1</td>\n",
       "      <td>Zimbabwe</td>\n",
       "      <td>269.96</td>\n",
       "      <td>91.43</td>\n",
       "      <td>1</td>\n",
       "      <td>2016-07-24 00:22:16</td>\n",
       "    </tr>\n",
       "    <tr>\n",
       "      <th>mean</th>\n",
       "      <td>NaN</td>\n",
       "      <td>36.009</td>\n",
       "      <td>55000</td>\n",
       "      <td>NaN</td>\n",
       "      <td>0.5</td>\n",
       "      <td>NaN</td>\n",
       "      <td>180</td>\n",
       "      <td>65.0002</td>\n",
       "      <td>0.481</td>\n",
       "      <td>NaN</td>\n",
       "    </tr>\n",
       "    <tr>\n",
       "      <th>min</th>\n",
       "      <td>Adaptive 24hour Graphic Interface</td>\n",
       "      <td>19</td>\n",
       "      <td>13996.5</td>\n",
       "      <td>Adamsbury</td>\n",
       "      <td>0</td>\n",
       "      <td>Afghanistan</td>\n",
       "      <td>104.78</td>\n",
       "      <td>32.6</td>\n",
       "      <td>0</td>\n",
       "      <td>2016-01-01 02:52:10</td>\n",
       "    </tr>\n",
       "    <tr>\n",
       "      <th>nan</th>\n",
       "      <td>0</td>\n",
       "      <td>0</td>\n",
       "      <td>0</td>\n",
       "      <td>0</td>\n",
       "      <td>0</td>\n",
       "      <td>0</td>\n",
       "      <td>0</td>\n",
       "      <td>0</td>\n",
       "      <td>0</td>\n",
       "      <td>0</td>\n",
       "    </tr>\n",
       "    <tr>\n",
       "      <th>stddev</th>\n",
       "      <td>NaN</td>\n",
       "      <td>8.78556</td>\n",
       "      <td>13414.6</td>\n",
       "      <td>NaN</td>\n",
       "      <td>0.50025</td>\n",
       "      <td>NaN</td>\n",
       "      <td>43.9023</td>\n",
       "      <td>15.8536</td>\n",
       "      <td>0.499889</td>\n",
       "      <td>NaN</td>\n",
       "    </tr>\n",
       "    <tr>\n",
       "      <th>valid</th>\n",
       "      <td>1000</td>\n",
       "      <td>1000</td>\n",
       "      <td>1000</td>\n",
       "      <td>1000</td>\n",
       "      <td>1000</td>\n",
       "      <td>1000</td>\n",
       "      <td>1000</td>\n",
       "      <td>1000</td>\n",
       "      <td>1000</td>\n",
       "      <td>1000</td>\n",
       "    </tr>\n",
       "  </tbody>\n",
       "</table>\n",
       "</div>"
      ],
      "text/plain": [
       "                               Ad Topic Line      Age Area Income        City  \\\n",
       "10%                                      NaN       26     34942.3         NaN   \n",
       "25%                                      NaN       29     46974.2         NaN   \n",
       "50%                                      NaN       35     57012.3         NaN   \n",
       "75%                                      NaN       42     65496.8         NaN   \n",
       "90%                                      NaN       49     70510.6         NaN   \n",
       "count                                   1000     1000        1000        1000   \n",
       "distinct                                1000       43        1000         969   \n",
       "distratio                                  1    0.043           1       0.969   \n",
       "dtype                               category    int64     float64    category   \n",
       "max             Visionary reciprocal circuit       61     79484.8  Zacharyton   \n",
       "mean                                     NaN   36.009       55000         NaN   \n",
       "min        Adaptive 24hour Graphic Interface       19     13996.5   Adamsbury   \n",
       "nan                                        0        0           0           0   \n",
       "stddev                                   NaN  8.78556     13414.6         NaN   \n",
       "valid                                   1000     1000        1000        1000   \n",
       "\n",
       "          Clicked on Ad      Country Daily Internet Usage  \\\n",
       "10%                   0          NaN               120.37   \n",
       "25%                   0          NaN               138.71   \n",
       "50%                 0.5          NaN               183.13   \n",
       "75%                   1          NaN                218.8   \n",
       "90%                   1          NaN               236.19   \n",
       "count              1000         1000                 1000   \n",
       "distinct              2          237                  966   \n",
       "distratio         0.002        0.237                0.966   \n",
       "dtype             int64     category              float64   \n",
       "max                   1     Zimbabwe               269.96   \n",
       "mean                0.5          NaN                  180   \n",
       "min                   0  Afghanistan               104.78   \n",
       "nan                   0            0                    0   \n",
       "stddev          0.50025          NaN              43.9023   \n",
       "valid              1000         1000                 1000   \n",
       "\n",
       "          Daily Time Spent on Site      Male            Timestamp  \n",
       "10%                          41.28         0                  NaN  \n",
       "25%                           51.3         0                  NaN  \n",
       "50%                         68.215         0                  NaN  \n",
       "75%                          78.57         1                  NaN  \n",
       "90%                          83.91         1                  NaN  \n",
       "count                         1000      1000                 1000  \n",
       "distinct                       900         2                 1000  \n",
       "distratio                      0.9     0.002                    1  \n",
       "dtype                      float64     int64             category  \n",
       "max                          91.43         1  2016-07-24 00:22:16  \n",
       "mean                       65.0002     0.481                  NaN  \n",
       "min                           32.6         0  2016-01-01 02:52:10  \n",
       "nan                              0         0                    0  \n",
       "stddev                     15.8536  0.499889                  NaN  \n",
       "valid                         1000      1000                 1000  "
      ]
     },
     "execution_count": 8,
     "metadata": {},
     "output_type": "execute_result"
    }
   ],
   "source": [
    "#statistics\n",
    "#dataset.describe()\n",
    "dataset.details\n"
   ]
  },
  {
   "cell_type": "code",
   "execution_count": 9,
   "metadata": {
    "collapsed": false
   },
   "outputs": [
    {
     "data": {
      "text/html": [
       "<div>\n",
       "<style>\n",
       "    .dataframe thead tr:only-child th {\n",
       "        text-align: right;\n",
       "    }\n",
       "\n",
       "    .dataframe thead th {\n",
       "        text-align: left;\n",
       "    }\n",
       "\n",
       "    .dataframe tbody tr th {\n",
       "        vertical-align: top;\n",
       "    }\n",
       "</style>\n",
       "<table border=\"1\" class=\"dataframe\">\n",
       "  <thead>\n",
       "    <tr style=\"text-align: right;\">\n",
       "      <th></th>\n",
       "      <th>Daily Time Spent on Site</th>\n",
       "      <th>Age</th>\n",
       "      <th>Area Income</th>\n",
       "      <th>Daily Internet Usage</th>\n",
       "      <th>Ad Topic Line</th>\n",
       "      <th>City</th>\n",
       "      <th>Male</th>\n",
       "      <th>Country</th>\n",
       "      <th>Timestamp</th>\n",
       "      <th>Clicked on Ad</th>\n",
       "    </tr>\n",
       "  </thead>\n",
       "  <tbody>\n",
       "    <tr>\n",
       "      <th>0</th>\n",
       "      <td>68.95</td>\n",
       "      <td>35</td>\n",
       "      <td>61833.90</td>\n",
       "      <td>256.09</td>\n",
       "      <td>Cloned 5thgeneration orchestration</td>\n",
       "      <td>Wrightburgh</td>\n",
       "      <td>0</td>\n",
       "      <td>Tunisia</td>\n",
       "      <td>2016-03-27 00:53:11</td>\n",
       "      <td>0</td>\n",
       "    </tr>\n",
       "    <tr>\n",
       "      <th>1</th>\n",
       "      <td>80.23</td>\n",
       "      <td>31</td>\n",
       "      <td>68441.85</td>\n",
       "      <td>193.77</td>\n",
       "      <td>Monitored national standardization</td>\n",
       "      <td>West Jodi</td>\n",
       "      <td>1</td>\n",
       "      <td>Nauru</td>\n",
       "      <td>2016-04-04 01:39:02</td>\n",
       "      <td>0</td>\n",
       "    </tr>\n",
       "    <tr>\n",
       "      <th>2</th>\n",
       "      <td>69.47</td>\n",
       "      <td>26</td>\n",
       "      <td>59785.94</td>\n",
       "      <td>236.50</td>\n",
       "      <td>Organic bottom-line service-desk</td>\n",
       "      <td>Davidton</td>\n",
       "      <td>0</td>\n",
       "      <td>San Marino</td>\n",
       "      <td>2016-03-13 20:35:42</td>\n",
       "      <td>0</td>\n",
       "    </tr>\n",
       "    <tr>\n",
       "      <th>3</th>\n",
       "      <td>74.15</td>\n",
       "      <td>29</td>\n",
       "      <td>54806.18</td>\n",
       "      <td>245.89</td>\n",
       "      <td>Triple-buffered reciprocal time-frame</td>\n",
       "      <td>West Terrifurt</td>\n",
       "      <td>1</td>\n",
       "      <td>Italy</td>\n",
       "      <td>2016-01-10 02:31:19</td>\n",
       "      <td>0</td>\n",
       "    </tr>\n",
       "    <tr>\n",
       "      <th>4</th>\n",
       "      <td>68.37</td>\n",
       "      <td>35</td>\n",
       "      <td>73889.99</td>\n",
       "      <td>225.58</td>\n",
       "      <td>Robust logistical utilization</td>\n",
       "      <td>South Manuel</td>\n",
       "      <td>0</td>\n",
       "      <td>Iceland</td>\n",
       "      <td>2016-06-03 03:36:18</td>\n",
       "      <td>0</td>\n",
       "    </tr>\n",
       "  </tbody>\n",
       "</table>\n",
       "</div>"
      ],
      "text/plain": [
       "   Daily Time Spent on Site  Age  Area Income  Daily Internet Usage  \\\n",
       "0                     68.95   35     61833.90                256.09   \n",
       "1                     80.23   31     68441.85                193.77   \n",
       "2                     69.47   26     59785.94                236.50   \n",
       "3                     74.15   29     54806.18                245.89   \n",
       "4                     68.37   35     73889.99                225.58   \n",
       "\n",
       "                           Ad Topic Line            City  Male     Country  \\\n",
       "0     Cloned 5thgeneration orchestration     Wrightburgh     0     Tunisia   \n",
       "1     Monitored national standardization       West Jodi     1       Nauru   \n",
       "2       Organic bottom-line service-desk        Davidton     0  San Marino   \n",
       "3  Triple-buffered reciprocal time-frame  West Terrifurt     1       Italy   \n",
       "4          Robust logistical utilization    South Manuel     0     Iceland   \n",
       "\n",
       "             Timestamp  Clicked on Ad  \n",
       "0  2016-03-27 00:53:11              0  \n",
       "1  2016-04-04 01:39:02              0  \n",
       "2  2016-03-13 20:35:42              0  \n",
       "3  2016-01-10 02:31:19              0  \n",
       "4  2016-06-03 03:36:18              0  "
      ]
     },
     "execution_count": 9,
     "metadata": {},
     "output_type": "execute_result"
    }
   ],
   "source": [
    "#first 5 rows \n",
    "dataset.head(5)"
   ]
  },
  {
   "cell_type": "markdown",
   "metadata": {},
   "source": [
    "# RUN BATCH"
   ]
  },
  {
   "cell_type": "code",
   "execution_count": 10,
   "metadata": {
    "collapsed": true
   },
   "outputs": [],
   "source": [
    "autolog=['unknowns()',\n",
    "         \"splitize(column='name',separ=' ', keeplist=[0],itemnames=['brand'],drop=True)\",\n",
    "         \"floatize(['horsepower'])\",\n",
    "         \"nan_replace(mode='median',columns=['horsepower'],value=0)\",\n",
    "         \"_set_targets(targets='mpg')\",\n",
    "         \"set_frequencies(['brand'])\"]\n",
    "runlog=[\"timize(column='Perf',timeformat=\\\"%Hh%M'%S''\\\",timelist=['time','hour'],drop=True)\",\n",
    "        \"substrize(column='Cat',splitpos=[2,3],keeplist=[0,1],itemnames=['Cat','Genre'],drop=True)\"]\n",
    "housinglog=['_set_category(catlist=None)',\n",
    "            \"_set_targets(targets='Price')\",\n",
    "            'unknowns()',\n",
    "            'unknowns()',\n",
    "            \"regexize(column='Address',regexstr='[\\\\W|\\\\w]*([A-Z]{2})[\\\\W|\\\\w]*',keeplist=[1],itemnames=['State'],drop=True)\",\n",
    "            \"_set_drop(['Address'])\",\n",
    "            '_set_category(categorigals=None)',\n",
    "            \"_set_drop(['Address'])\",\n",
    "            'drop_allnans()',\n",
    "            'drop_anynans()',\n",
    "            \"_set_category(categoricals=['brand'])\",\n",
    "            \"set_frequencies(columns=['State'])\"]\n",
    "titaniclog=[\"boolnotnans(['Cabin'])\"]\n",
    "titaniclog=[\"_set_targets(targets = 'Survived')\", \n",
    "            'unknowns()',\n",
    "            \"substrize(column='Cabin',splitpos=[1],keeplist=[0],itemnames=['TypeCabin'],drop=True)\",\n",
    "            \"_set_drop(['PassengerId', 'Ticket', 'Name'])\",\n",
    "            \"nan_replace(mode='mostfreq',columns=['Embarked'], value=0)\",\n",
    "            \"nan_replace(mode='median',columns=['Age'], value=0)\",\n",
    "            \"set_ordinals(column='TypeCabin',categories=['A', 'B', 'C', 'D', 'E', 'F', 'G', 'T'])\",\n",
    "            \"set_dummies(columns=['Sex', 'Embarked'])\"]\n",
    "startupslog=[\"set_dummies(columns=['State'])\",\n",
    "            \"_set_targets(targets='Profit')\"]\n",
    "advertisinglog=[\"_set_targets(targets = 'Clicked on Ad')\",\n",
    "                \"timize(column='Timestamp',timeformat='%Y-%m-%d %H:%M:%S',timelist=['hour', 'weekday'],drop=True)\",\n",
    "                \"_set_drop(['Ad Topic Line', 'City'])\",\n",
    "                \"set_frequencies(columns=['Country'])\",\n",
    "                \"set_dummies(columns=['Timestamp_hour', 'Timestamp_weekday'])\"]"
   ]
  },
  {
   "cell_type": "code",
   "execution_count": 11,
   "metadata": {
    "collapsed": false
   },
   "outputs": [],
   "source": [
    "batch=True\n",
    "if batch:\n",
    "    dataset.batch(advertisinglog)"
   ]
  },
  {
   "cell_type": "markdown",
   "metadata": {
    "collapsed": false
   },
   "source": [
    "# TARGET"
   ]
  },
  {
   "cell_type": "markdown",
   "metadata": {},
   "source": [
    "***suggested***"
   ]
  },
  {
   "cell_type": "code",
   "execution_count": 12,
   "metadata": {
    "collapsed": false
   },
   "outputs": [
    {
     "data": {
      "text/plain": [
       "'Clicked on Ad'"
      ]
     },
     "execution_count": 12,
     "metadata": {},
     "output_type": "execute_result"
    }
   ],
   "source": [
    "dataset.fmd.suggested_param()['targets']"
   ]
  },
  {
   "cell_type": "code",
   "execution_count": 13,
   "metadata": {
    "collapsed": false
   },
   "outputs": [
    {
     "name": "stdout",
     "output_type": "stream",
     "text": [
      "TARGETS = \"Clicked on Ad\"\n"
     ]
    }
   ],
   "source": [
    "#input the dataset target\n",
    "#dataset.targets='X'\n",
    "if dataset.fmd.suggested_param()['targets'] == '':\n",
    "    # iteractive input / prompt\n",
    "    #no quote : cylinders\n",
    "    print(\"chose in {0}\".format(list(dataset.df.columns)))\n",
    "    targets=input('type a targets column :')\n",
    "else:\n",
    "    targets=dataset.fmd.suggested_param()['targets']\n",
    "dataset.targets=targets\n",
    "print('TARGETS = \"{0}\"'.format(dataset.targets))"
   ]
  },
  {
   "cell_type": "markdown",
   "metadata": {},
   "source": [
    "\n",
    "\n",
    "# CLEAN DATA\n"
   ]
  },
  {
   "cell_type": "markdown",
   "metadata": {},
   "source": [
    "\n",
    "<table style=\"width:100\" border=\"0px\">\n",
    "<tr>\n",
    "    <th>***NUMERIC***</th>\n",
    "    <th>***CATEGORICAL***</th>\n",
    "    <th>***STRINGS***</th>\n",
    "    <th>***MISSING VALUES***</th>\n",
    "</tr>\n",
    "<tr>\n",
    "    <td>discrete<br>continuous<br>boolean<br></td>\n",
    "    <td>ordinal<br>dummies<br>frequencies<br></td>\n",
    "    <td>drop names<br>split<br>substring<br>regex<br></td>\n",
    "    <td>drop all nan columns<br>drop column with any nan<br></td>\n",
    "</tr>\n",
    "<tr>\n",
    "    <td></td>\n",
    "    <td></td>\n",
    "    <td></td>\n",
    "    <td>**fill na with:**<br>mean<br>median<br>max<br>min<br>most frequent value<br>less frequent value<br>specific value<br>boolean nan split<br></td>\n",
    "</tr>"
   ]
  },
  {
   "cell_type": "markdown",
   "metadata": {},
   "source": [
    "**kind of #nan**<br/>\n",
    "replace unknown values, \"?\",... with nan"
   ]
  },
  {
   "cell_type": "code",
   "execution_count": null,
   "metadata": {
    "collapsed": true
   },
   "outputs": [],
   "source": [
    "dataset.unknowns()"
   ]
  },
  {
   "cell_type": "markdown",
   "metadata": {},
   "source": [
    "**batch and special columns** <br/>\n",
    "split descriptions or categories / titles / times in smaller categorical columns"
   ]
  },
  {
   "cell_type": "code",
   "execution_count": null,
   "metadata": {
    "collapsed": false
   },
   "outputs": [],
   "source": [
    "#fill the needed function\n",
    "dataset.splitize(column=[],separ=' ',keeplist=[0], itemnames=None, drop=True)\n",
    "dataset.substrize(column=[], splitpos=[], keeplist=[0], itemnames=None, drop=True)\n",
    "dataset.boolnotnans(columns=[], values=[0, 1])\n",
    "dataset.timize(column=[], timeformat='%d%m%Y-%H:%M:%S.%f', timelist=['time'], drop=True)\n",
    "dataset.regexize(column=[],regexstr='', keeplist=[0], itemnames=None, drop=True)\n",
    "dataset.timize(column='Timestamp', timeformat='%Y-%m-%d %H:%M:%S', timelist=['hour','weekday'], drop=True)"
   ]
  },
  {
   "cell_type": "code",
   "execution_count": null,
   "metadata": {
    "collapsed": false
   },
   "outputs": [],
   "source": []
  },
  {
   "cell_type": "markdown",
   "metadata": {
    "collapsed": true
   },
   "source": [
    "# DROP"
   ]
  },
  {
   "cell_type": "markdown",
   "metadata": {},
   "source": [
    "** drop large categories, ids, descriptions and names...**<br>\n",
    "determines categorical columns with too-much distinct values and remove them"
   ]
  },
  {
   "cell_type": "markdown",
   "metadata": {},
   "source": [
    "***#automatic***"
   ]
  },
  {
   "cell_type": "code",
   "execution_count": null,
   "metadata": {
    "collapsed": false
   },
   "outputs": [],
   "source": [
    "autodroplist=dataset.automatic_drop()\n",
    "autodroplist"
   ]
  },
  {
   "cell_type": "markdown",
   "metadata": {},
   "source": [
    "***#suggested param***"
   ]
  },
  {
   "cell_type": "code",
   "execution_count": null,
   "metadata": {
    "collapsed": false
   },
   "outputs": [],
   "source": [
    "suggdroplist=dataset.fmd.suggested_param()['drop']\n",
    "suggdroplist"
   ]
  },
  {
   "cell_type": "markdown",
   "metadata": {},
   "source": [
    "***#personal droplist***"
   ]
  },
  {
   "cell_type": "code",
   "execution_count": null,
   "metadata": {
    "collapsed": true
   },
   "outputs": [],
   "source": [
    "persdroplist=['Ad Topic Line','City']"
   ]
  },
  {
   "cell_type": "markdown",
   "metadata": {},
   "source": [
    "***#set droplist***"
   ]
  },
  {
   "cell_type": "code",
   "execution_count": null,
   "metadata": {
    "collapsed": false
   },
   "outputs": [],
   "source": [
    "droplist=unionlist(suggdroplist,autodroplist,persdroplist)\n",
    "dataset.drop=droplist"
   ]
  },
  {
   "cell_type": "markdown",
   "metadata": {},
   "source": [
    "**identify columns with nan**"
   ]
  },
  {
   "cell_type": "code",
   "execution_count": null,
   "metadata": {
    "collapsed": false
   },
   "outputs": [],
   "source": [
    "#dislay missing values\n",
    "dataset.missing_values()"
   ]
  },
  {
   "cell_type": "code",
   "execution_count": null,
   "metadata": {
    "collapsed": false
   },
   "outputs": [],
   "source": [
    "dataset.histmap(list(dataset.missing_values().index))"
   ]
  },
  {
   "cell_type": "markdown",
   "metadata": {},
   "source": [
    "**replace by mean** (for quantitative values)"
   ]
  },
  {
   "cell_type": "code",
   "execution_count": null,
   "metadata": {
    "collapsed": false
   },
   "outputs": [],
   "source": [
    "dataset.nan_replace(mode='mostfreq',columns=['Embarked'],value=0)"
   ]
  },
  {
   "cell_type": "code",
   "execution_count": null,
   "metadata": {
    "collapsed": false
   },
   "outputs": [],
   "source": [
    "dataset.nan_replace(mode='median',columns=['horsepower'],value=0)"
   ]
  },
  {
   "cell_type": "markdown",
   "metadata": {},
   "source": [
    "***bool not nans***<br>\n",
    "replace by True(1) when not nans and False(0) when nans<br>\n",
    "assert 'having a value' means something by itself"
   ]
  },
  {
   "cell_type": "code",
   "execution_count": null,
   "metadata": {
    "collapsed": false
   },
   "outputs": [],
   "source": [
    "dataset.boolnotnans(columns=['Cabin'])"
   ]
  },
  {
   "cell_type": "markdown",
   "metadata": {},
   "source": [
    "**drop columns with all nan**"
   ]
  },
  {
   "cell_type": "code",
   "execution_count": null,
   "metadata": {
    "collapsed": false
   },
   "outputs": [],
   "source": [
    "dataset.drop_allnans()"
   ]
  },
  {
   "cell_type": "markdown",
   "metadata": {},
   "source": [
    "**drop rows with some nans** <br>\n",
    "if needed (for categorical values)<br>\n",
    "by default nans in categorical columns will be trnasform into zeros<br>\n"
   ]
  },
  {
   "cell_type": "code",
   "execution_count": null,
   "metadata": {
    "collapsed": true
   },
   "outputs": [],
   "source": [
    "#de-comment line below for droping rows with categorical nans\n",
    "#dataset.drop_anynans()"
   ]
  },
  {
   "cell_type": "markdown",
   "metadata": {},
   "source": [
    "** Infos about transformed dataset **"
   ]
  },
  {
   "cell_type": "code",
   "execution_count": null,
   "metadata": {
    "collapsed": false
   },
   "outputs": [],
   "source": [
    "#dataset.details"
   ]
  },
  {
   "cell_type": "markdown",
   "metadata": {},
   "source": [
    "# transform categorical columns / dummies"
   ]
  },
  {
   "cell_type": "markdown",
   "metadata": {},
   "source": [
    "**display quantitative / categorical columns **<br>\n",
    "before transform into dummies"
   ]
  },
  {
   "cell_type": "code",
   "execution_count": null,
   "metadata": {
    "collapsed": false
   },
   "outputs": [],
   "source": [
    "#quantitative columns\n",
    "pd.DataFrame(dataset.continuous,columns=['continuous'])"
   ]
  },
  {
   "cell_type": "code",
   "execution_count": null,
   "metadata": {
    "collapsed": false
   },
   "outputs": [],
   "source": [
    "#categorical columns\n",
    "pd.DataFrame(dataset.category,columns=['category'])\n"
   ]
  },
  {
   "cell_type": "markdown",
   "metadata": {},
   "source": [
    "**insert some quantitative columns to categorical**<br>\n",
    "(age, level, rank...)"
   ]
  },
  {
   "cell_type": "code",
   "execution_count": null,
   "metadata": {
    "collapsed": false
   },
   "outputs": [],
   "source": [
    "dataset.category=['R']"
   ]
  },
  {
   "cell_type": "markdown",
   "metadata": {},
   "source": [
    "***set categorical in count distribution ***<br>\n",
    "['A','B','C','A','A','B'] -> [3,2,1,3,3,2] "
   ]
  },
  {
   "cell_type": "code",
   "execution_count": null,
   "metadata": {
    "collapsed": false
   },
   "outputs": [],
   "source": [
    "dataset.set_frequencies(['Country'])"
   ]
  },
  {
   "cell_type": "markdown",
   "metadata": {},
   "source": [
    "***transform categorical into ordinals***<br>\n",
    "rating ['good','intermediate','bad'] -> [1,2,3]"
   ]
  },
  {
   "cell_type": "code",
   "execution_count": null,
   "metadata": {
    "collapsed": false
   },
   "outputs": [],
   "source": [
    "dataset.unique('Cabin')"
   ]
  },
  {
   "cell_type": "code",
   "execution_count": null,
   "metadata": {
    "collapsed": false
   },
   "outputs": [],
   "source": [
    "#dataset.set_ordinals('Cat',['ES','SE','V1','V2','V3','V4'])\n",
    "dataset.set_ordinals('Cabin',['A','B','C','D','E','F','G','T'])"
   ]
  },
  {
   "cell_type": "markdown",
   "metadata": {},
   "source": [
    "**transform categorical into dummies**"
   ]
  },
  {
   "cell_type": "code",
   "execution_count": null,
   "metadata": {
    "collapsed": false
   },
   "outputs": [],
   "source": [
    "dataset.set_dummies(['Timestamp_hour','Timestamp_weekday'])"
   ]
  },
  {
   "cell_type": "markdown",
   "metadata": {},
   "source": [
    "# display tranformed dataset"
   ]
  },
  {
   "cell_type": "code",
   "execution_count": null,
   "metadata": {
    "collapsed": false
   },
   "outputs": [],
   "source": [
    "dataset.head(5)"
   ]
  },
  {
   "cell_type": "markdown",
   "metadata": {},
   "source": [
    "# statistical distribution"
   ]
  },
  {
   "cell_type": "markdown",
   "metadata": {
    "collapsed": false
   },
   "source": [
    "**limit graphic samples**<br>\n",
    "choose *n* between 100 and 10000<br>\n",
    "display graphic ? : set *SHOWGRAPH= True/False*\n"
   ]
  },
  {
   "cell_type": "code",
   "execution_count": null,
   "metadata": {
    "collapsed": true
   },
   "outputs": [],
   "source": [
    "dataset.maxshowsamples=3000\n",
    "SHOWGRAPH=True"
   ]
  },
  {
   "cell_type": "code",
   "execution_count": null,
   "metadata": {
    "collapsed": false
   },
   "outputs": [],
   "source": [
    "if SHOWGRAPH:\n",
    "    dataset.histmap()"
   ]
  },
  {
   "cell_type": "markdown",
   "metadata": {},
   "source": [
    "# investigate some basic correlations"
   ]
  },
  {
   "cell_type": "markdown",
   "metadata": {},
   "source": [
    "<h2> correlation overview</h2>"
   ]
  },
  {
   "cell_type": "markdown",
   "metadata": {},
   "source": [
    "** heatmap **<br>\n",
    "point out linear correlation"
   ]
  },
  {
   "cell_type": "code",
   "execution_count": null,
   "metadata": {
    "collapsed": false,
    "scrolled": true
   },
   "outputs": [],
   "source": [
    "if SHOWGRAPH:\n",
    "    #dataset.heatmap(cmap=dataset.flowkaPalette)\n",
    "    dataset.heatmap()"
   ]
  },
  {
   "cell_type": "markdown",
   "metadata": {},
   "source": [
    "** \"pairplot\" **<br>\n",
    "visualization map of possible correlations between couple of variables<br>\n",
    "hue with target values"
   ]
  },
  {
   "cell_type": "code",
   "execution_count": null,
   "metadata": {
    "collapsed": false,
    "scrolled": true
   },
   "outputs": [],
   "source": [
    "if SHOWGRAPH:\n",
    "    import datetime as dt\n",
    "    print(dt.datetime.now().hour,dt.datetime.now().minute,dt.datetime.now().second)\n",
    "    st=dt.datetime.now()\n",
    "\n",
    "    \n",
    "    dataset.pairplot()\n",
    "\n",
    "    print(dt.datetime.now().hour,dt.datetime.now().minute,dt.datetime.now().second)\n",
    "    fi=dt.datetime.now()\n",
    "    print(fi-st)\n"
   ]
  },
  {
   "cell_type": "markdown",
   "metadata": {},
   "source": [
    "** Zoom in some columns**<br>\n",
    "Based on this plots, what looks to be the most correlated feature ?\n"
   ]
  },
  {
   "cell_type": "code",
   "execution_count": null,
   "metadata": {
    "collapsed": false,
    "scrolled": false
   },
   "outputs": [],
   "source": [
    "if SHOWGRAPH:\n",
    "    import datetime as dt\n",
    "    print(dt.datetime.now().hour,dt.datetime.now().minute,dt.datetime.now().second)\n",
    "    st=dt.datetime.now()\n",
    "    dataset.lmplot()\n",
    "\n",
    "    print(dt.datetime.now().hour,dt.datetime.now().minute,dt.datetime.now().second)\n",
    "    fi=dt.datetime.now()\n",
    "    print(fi-st)\n"
   ]
  },
  {
   "cell_type": "markdown",
   "metadata": {},
   "source": [
    "# Training and Testing Data¶\n"
   ]
  },
  {
   "cell_type": "code",
   "execution_count": 14,
   "metadata": {
    "collapsed": false
   },
   "outputs": [],
   "source": [
    "from flowkamo import fmo\n",
    "mo=fmo(dataset)"
   ]
  },
  {
   "cell_type": "markdown",
   "metadata": {},
   "source": [
    "**Normalization**<br>\n",
    "Xi/(max(Xi)-min(Xi))<br>\n",
    "**Standardization**<br>\n",
    "(Xi-mean(Xi))/StdDev(Xi)"
   ]
  },
  {
   "cell_type": "code",
   "execution_count": null,
   "metadata": {
    "collapsed": false
   },
   "outputs": [],
   "source": [
    "mo.scale().head(0)"
   ]
  },
  {
   "cell_type": "markdown",
   "metadata": {},
   "source": [
    "**split test and train**<br/>\n",
    "Use model_selection.train_test_split from sklearn to split the data into training and testing sets. Set test_size=0.3 and random_state=101"
   ]
  },
  {
   "cell_type": "markdown",
   "metadata": {},
   "source": [
    "# Training the Model\n",
    "\n",
    "Now its time to train our model on our training data!"
   ]
  },
  {
   "cell_type": "code",
   "execution_count": 15,
   "metadata": {
    "collapsed": false
   },
   "outputs": [],
   "source": [
    "dataset.clusters=None"
   ]
  },
  {
   "cell_type": "markdown",
   "metadata": {},
   "source": [
    "** algorithm**"
   ]
  },
  {
   "cell_type": "code",
   "execution_count": 16,
   "metadata": {
    "collapsed": false
   },
   "outputs": [
    {
     "name": "stdout",
     "output_type": "stream",
     "text": [
      "predict : Clicked on Ad\n",
      "algo    : forClass\n"
     ]
    }
   ],
   "source": [
    "print(\"predict : {0}\".format(dataset.targets))\n",
    "print(\"algo    : {0}\".format(dataset.fmd.suggested_param()['algo']))"
   ]
  },
  {
   "cell_type": "code",
   "execution_count": 17,
   "metadata": {
    "collapsed": false
   },
   "outputs": [
    {
     "name": "stdout",
     "output_type": "stream",
     "text": [
      "algos : ['forClass', 'treeClass', 'svm', 'logRegr', 'knn']\n"
     ]
    },
    {
     "data": {
      "text/plain": [
       "['forClass', 'treeClass', 'svm', 'logRegr', 'knn']"
      ]
     },
     "execution_count": 17,
     "metadata": {},
     "output_type": "execute_result"
    }
   ],
   "source": [
    "mo.detect_algo()"
   ]
  },
  {
   "cell_type": "code",
   "execution_count": 18,
   "metadata": {
    "collapsed": false
   },
   "outputs": [],
   "source": [
    "#choose a specific algo\n",
    "#mo.algo='linRegr'"
   ]
  },
  {
   "cell_type": "code",
   "execution_count": 19,
   "metadata": {
    "collapsed": false
   },
   "outputs": [
    {
     "name": "stdout",
     "output_type": "stream",
     "text": [
      "algos : ['forClass', 'treeClass', 'svm', 'logRegr', 'knn']\n",
      "forClass : Random Forest Classifier\n"
     ]
    }
   ],
   "source": [
    "if dataset.fmd.suggested_param()['algo'] not in mo.detect_algo():\n",
    "    print ('WARNING : suggested algo does not fit\\nrun all possibles and select the best')\n",
    "    mo.best_predict(mo.detect_algo())\n",
    "else:\n",
    "    mo.algo=mo.ds.fmd.suggested_param()['algo']"
   ]
  },
  {
   "cell_type": "markdown",
   "metadata": {},
   "source": [
    "**Train/fit on the training data.**"
   ]
  },
  {
   "cell_type": "markdown",
   "metadata": {},
   "source": [
    "## Predicting Test Data\n",
    "Model is fit<br>\n",
    "predicting off the test values\n"
   ]
  },
  {
   "cell_type": "markdown",
   "metadata": {},
   "source": [
    "# Regression"
   ]
  },
  {
   "cell_type": "markdown",
   "metadata": {},
   "source": [
    "\n",
    "**Print out the coefficients of the model**<br>\n",
    "olding all other features fixed, a 1 unit increase in Xi is associated with an increase of Y (eg:total dollars spent)"
   ]
  },
  {
   "cell_type": "markdown",
   "metadata": {},
   "source": [
    "**Create a scatterplot of the real test values versus the predicted values.**"
   ]
  },
  {
   "cell_type": "markdown",
   "metadata": {},
   "source": [
    "## Evaluating the Model\n",
    "\n",
    "evaluate the model performance by calculating the residual sum of squares and the explained variance score (R^2).\n",
    "\n",
    "**  Mean Absolute Error - Mean Squared Error - Root Mean Squared Error"
   ]
  },
  {
   "cell_type": "markdown",
   "metadata": {},
   "source": [
    "# Classification"
   ]
  },
  {
   "cell_type": "markdown",
   "metadata": {},
   "source": [
    "<h1>confusion matrix</h1>\n",
    "\n",
    "<table style=\"width:100\" border=\"1px\">\n",
    "  <tr>\n",
    "    <th colspan=\"2\"></th>\n",
    "    <th colspan=\"2\">**prediction**</th>\n",
    "  </tr>\n",
    "  <tr>\n",
    "    <th colspan=\"2\"></th>\n",
    "    <td>0</td>\n",
    "    <td>1</td>\n",
    "  </tr>\n",
    "  <tr>\n",
    "    <th rowspan=\"2\">**observation**</th>\n",
    "    <td>0</td>\n",
    "    <td>TN</td>\n",
    "    <td>FP</td>\n",
    "  </tr>\n",
    "  <tr>\n",
    "     <td>1</td>\n",
    "    <td>FN</td>\n",
    "    <td>TP</td>\n",
    "   </tr>\n",
    "</table>\n",
    "\n",
    "FP est une alerte : on prédit quelque chose et il ne se produit pas<br/>\n",
    "FN plus grave que FP (on ne predit pas un tremblement de terre et il se produit) <br/>\n",
    "\n",
    "**precision :**<br> \n",
    "TP/(FP+TP)<br>\n",
    "TN/(FN+TN)<br>\n",
    "nb de documents correctement attribués à la classe i / nombre d'éléments attribués à la classe i<br>\n",
    "**rappel :** <br>\n",
    "TP/(TP+FN) (sensitivity)<br>\n",
    "TN/(TN+FP) (specificity)<br>\n",
    "nb de documents correctement attribués à la classe i / nombre d'éléments appartenants effectivement à la classe i<br>\n",
    "**f1-score :**<br>\n",
    "précision*rappel/(précision+rappel)<br>\n",
    "\n",
    "**accuracy rate** = (TP+TN)/(TP+TN+FP+FN)<br/>\n",
    "**error rate**    = (FP+FN)/(TP+TN+FP+FN)<br/>\n",
    "\n",
    "\n"
   ]
  },
  {
   "cell_type": "code",
   "execution_count": 20,
   "metadata": {
    "collapsed": false
   },
   "outputs": [
    {
     "name": "stdout",
     "output_type": "stream",
     "text": [
      "     0    1\n",
      "0  152    5\n",
      "1    7  136\n",
      "\n",
      "\n",
      "             precision    recall  f1-score   support\n",
      "\n",
      "          0       0.96      0.97      0.96       157\n",
      "          1       0.96      0.95      0.96       143\n",
      "\n",
      "avg / total       0.96      0.96      0.96       300\n",
      "\n",
      "\n",
      "\n",
      "accuracy rate \t: 0.96\n",
      "error rate \t: 0.04\n",
      "\n",
      "\n"
     ]
    },
    {
     "data": {
      "image/png": "[encoded data removed]",
      "text/plain": [
       "<matplotlib.figure.Figure at 0x11d7d72e8>"
      ]
     },
     "metadata": {},
     "output_type": "display_data"
    }
   ],
   "source": [
    "mo.reports()"
   ]
  },
  {
   "cell_type": "markdown",
   "metadata": {},
   "source": [
    "# SAVE TRAINING\n",
    "data<br>\n",
    "metadata<br>\n",
    "logs/batchs<br>\n",
    "model<br>\n"
   ]
  },
  {
   "cell_type": "code",
   "execution_count": 21,
   "metadata": {
    "collapsed": false
   },
   "outputs": [
    {
     "name": "stdout",
     "output_type": "stream",
     "text": [
      "data exported to ./work/flowka_advertising.csv\n"
     ]
    }
   ],
   "source": [
    "dataset.save()"
   ]
  },
  {
   "cell_type": "code",
   "execution_count": 22,
   "metadata": {
    "collapsed": false
   },
   "outputs": [
    {
     "name": "stdout",
     "output_type": "stream",
     "text": [
      "metadata exported to ./work/flowka_metadata\n"
     ]
    }
   ],
   "source": [
    "dataset.fmd.save()"
   ]
  },
  {
   "cell_type": "code",
   "execution_count": 23,
   "metadata": {
    "collapsed": false
   },
   "outputs": [],
   "source": [
    "dataset.savelog()"
   ]
  },
  {
   "cell_type": "code",
   "execution_count": 24,
   "metadata": {
    "collapsed": false
   },
   "outputs": [
    {
     "name": "stdout",
     "output_type": "stream",
     "text": [
      "model ./work/flowka_model_advertising.dat saved\n"
     ]
    }
   ],
   "source": [
    "mo.save_model(model_file=None)"
   ]
  },
  {
   "cell_type": "markdown",
   "metadata": {
    "collapsed": true
   },
   "source": [
    "# MANUAL PREDICTION    "
   ]
  },
  {
   "cell_type": "markdown",
   "metadata": {},
   "source": [
    "**display a template for input new data**<br>\n",
    "<ul>\n",
    "<li>copy and paste the *output*,</li>\n",
    "<li>change the values</li>\n",
    "<li>the lists may have many items but the number of items per list have to be equal</li>\n",
    "<li>execute the *cell*</li>\n"
   ]
  },
  {
   "cell_type": "code",
   "execution_count": 25,
   "metadata": {
    "collapsed": false
   },
   "outputs": [
    {
     "name": "stdout",
     "output_type": "stream",
     "text": [
      "manual={\n",
      "'Country': ['Venezuela'],\n",
      "'Daily Internet Usage': [150.83000000000001],\n",
      "'Ad Topic Line': ['Configurable interactive contingency'],\n",
      "'Male': [1],\n",
      "'Daily Time Spent on Site': [41.159999999999997],\n",
      "'Clicked on Ad': [1],\n",
      "'Area Income': [59448.440000000002],\n",
      "'City': ['Hendrixmouth'],\n",
      "'Age': [49],\n",
      "'Timestamp': ['2016-03-28 09:15:58'] \n",
      "}\n"
     ]
    }
   ],
   "source": [
    "dataset.sample_template()"
   ]
  },
  {
   "cell_type": "code",
   "execution_count": 26,
   "metadata": {
    "collapsed": false
   },
   "outputs": [],
   "source": [
    "manual={\n",
    "'Clicked on Ad': [1,0,0,1],\n",
    "'Timestamp': ['2016-02-15 07:27:41','2016-01-27 16:06:05','2016-03-18 17:35:40','2016-03-28 09:15:58'],\n",
    "'Ad Topic Line': ['Stand-alone motivating moratorium','User-centric discrete success','Function-based fault-tolerant model','Configurable interactive contingency'],\n",
    "'Daily Time Spent on Site': [66.120000000000005,72.81,65.76,41.16],\n",
    "'City': ['South Alexisborough','Jonesmouth','Contrerasshire','Hendrixmouth'],\n",
    "'Country': [\"Cote d'Ivoire\",'Czech Republic','Eritrea','Venezuela'],\n",
    "'Area Income': [39031.89,75769.82,42162.9,59448.4],\n",
    "'Male': [0,1,1,1],\n",
    "'Daily Internet Usage': [113.8,191.81,218.6,150.83],\n",
    "'Age': [49,34,21,49] \n",
    "}\n",
    "   "
   ]
  },
  {
   "cell_type": "code",
   "execution_count": 27,
   "metadata": {
    "collapsed": false
   },
   "outputs": [
    {
     "data": {
      "text/plain": [
       "False"
      ]
     },
     "execution_count": 27,
     "metadata": {},
     "output_type": "execute_result"
    }
   ],
   "source": [
    "dataset._silent=False\n",
    "dataset.silent_category"
   ]
  },
  {
   "cell_type": "code",
   "execution_count": 28,
   "metadata": {
    "collapsed": false
   },
   "outputs": [
    {
     "data": {
      "text/plain": [
       "'forClass'"
      ]
     },
     "execution_count": 28,
     "metadata": {},
     "output_type": "execute_result"
    }
   ],
   "source": [
    "mo.algo"
   ]
  },
  {
   "cell_type": "code",
   "execution_count": 29,
   "metadata": {
    "collapsed": false
   },
   "outputs": [],
   "source": [
    "dataset=fpd(pd.DataFrame(manual),'advertising')"
   ]
  },
  {
   "cell_type": "code",
   "execution_count": 30,
   "metadata": {
    "collapsed": false
   },
   "outputs": [
    {
     "name": "stdout",
     "output_type": "stream",
     "text": [
      "load dataset\n",
      "clean data\n",
      "_set_targets(targets = 'Clicked on Ad')\n",
      "targets set to Clicked on Ad\n",
      "timize(column='Timestamp',timeformat='%Y-%m-%d %H:%M:%S',timelist=['hour', 'weekday'],drop=True)\n",
      "add:['Timestamp_hour']\n",
      "add:['Timestamp_weekday']\n",
      "drop:Timestamp\n",
      "_set_drop(['Ad Topic Line', 'City'])\n",
      "drop:['Ad Topic Line', 'City']\n",
      "set_frequencies(columns=['Country'])\n",
      "frequencies : ['Country'] \n",
      "set_dummies(columns=['Timestamp_hour', 'Timestamp_weekday'])\n",
      "add:['Timestamp_hour_0']\n",
      "add:['Timestamp_hour_1']\n",
      "add:['Timestamp_hour_2']\n",
      "add:['Timestamp_hour_3']\n",
      "add:['Timestamp_hour_4']\n",
      "add:['Timestamp_hour_5']\n",
      "add:['Timestamp_hour_6']\n",
      "add:['Timestamp_hour_7']\n",
      "add:['Timestamp_hour_8']\n",
      "add:['Timestamp_hour_9']\n",
      "add:['Timestamp_hour_10']\n",
      "add:['Timestamp_hour_11']\n",
      "add:['Timestamp_hour_12']\n",
      "add:['Timestamp_hour_13']\n",
      "add:['Timestamp_hour_14']\n",
      "add:['Timestamp_hour_15']\n",
      "add:['Timestamp_hour_16']\n",
      "add:['Timestamp_hour_17']\n",
      "add:['Timestamp_hour_18']\n",
      "add:['Timestamp_hour_19']\n",
      "add:['Timestamp_hour_20']\n",
      "add:['Timestamp_hour_21']\n",
      "add:['Timestamp_hour_22']\n",
      "add:['Timestamp_hour_23']\n",
      "drop:['Timestamp_hour']\n",
      "add:['Timestamp_weekday_0']\n",
      "add:['Timestamp_weekday_1']\n",
      "add:['Timestamp_weekday_2']\n",
      "add:['Timestamp_weekday_3']\n",
      "add:['Timestamp_weekday_4']\n",
      "add:['Timestamp_weekday_5']\n",
      "add:['Timestamp_weekday_6']\n",
      "drop:['Timestamp_weekday']\n",
      "_set_targets(targets = 'Clicked on Ad')\n",
      "targets set to Clicked on Ad\n",
      "_set_clusters( None)\n",
      "load model\n",
      "model ./work/flowka_model_advertising.dat loaded\n",
      "rescale data\n",
      "prediction\n",
      "restore dataset values\n",
      "save model\n",
      "add:['forClass']\n",
      "data exported to ./work/pred_advertising.csv\n"
     ]
    },
    {
     "data": {
      "text/html": [
       "<div>\n",
       "<style>\n",
       "    .dataframe thead tr:only-child th {\n",
       "        text-align: right;\n",
       "    }\n",
       "\n",
       "    .dataframe thead th {\n",
       "        text-align: left;\n",
       "    }\n",
       "\n",
       "    .dataframe tbody tr th {\n",
       "        vertical-align: top;\n",
       "    }\n",
       "</style>\n",
       "<table border=\"1\" class=\"dataframe\">\n",
       "  <thead>\n",
       "    <tr style=\"text-align: right;\">\n",
       "      <th></th>\n",
       "      <th>Age</th>\n",
       "      <th>Area Income</th>\n",
       "      <th>Clicked on Ad</th>\n",
       "      <th>Country</th>\n",
       "      <th>Daily Internet Usage</th>\n",
       "      <th>Daily Time Spent on Site</th>\n",
       "      <th>Male</th>\n",
       "      <th>Timestamp</th>\n",
       "      <th>Ad Topic Line</th>\n",
       "      <th>City</th>\n",
       "      <th>Timestamp_hour</th>\n",
       "      <th>Timestamp_weekday</th>\n",
       "      <th>forClass</th>\n",
       "    </tr>\n",
       "  </thead>\n",
       "  <tbody>\n",
       "    <tr>\n",
       "      <th>0</th>\n",
       "      <td>49</td>\n",
       "      <td>39031.89</td>\n",
       "      <td>1</td>\n",
       "      <td>Cote d'Ivoire</td>\n",
       "      <td>113.80</td>\n",
       "      <td>66.12</td>\n",
       "      <td>0</td>\n",
       "      <td>2016-02-15 07:27:41</td>\n",
       "      <td>Stand-alone motivating moratorium</td>\n",
       "      <td>South Alexisborough</td>\n",
       "      <td>7</td>\n",
       "      <td>0</td>\n",
       "      <td>1</td>\n",
       "    </tr>\n",
       "    <tr>\n",
       "      <th>1</th>\n",
       "      <td>34</td>\n",
       "      <td>75769.82</td>\n",
       "      <td>0</td>\n",
       "      <td>Czech Republic</td>\n",
       "      <td>191.81</td>\n",
       "      <td>72.81</td>\n",
       "      <td>1</td>\n",
       "      <td>2016-01-27 16:06:05</td>\n",
       "      <td>User-centric discrete success</td>\n",
       "      <td>Jonesmouth</td>\n",
       "      <td>16</td>\n",
       "      <td>2</td>\n",
       "      <td>0</td>\n",
       "    </tr>\n",
       "    <tr>\n",
       "      <th>2</th>\n",
       "      <td>21</td>\n",
       "      <td>42162.90</td>\n",
       "      <td>0</td>\n",
       "      <td>Eritrea</td>\n",
       "      <td>218.60</td>\n",
       "      <td>65.76</td>\n",
       "      <td>1</td>\n",
       "      <td>2016-03-18 17:35:40</td>\n",
       "      <td>Function-based fault-tolerant model</td>\n",
       "      <td>Contrerasshire</td>\n",
       "      <td>17</td>\n",
       "      <td>4</td>\n",
       "      <td>0</td>\n",
       "    </tr>\n",
       "    <tr>\n",
       "      <th>3</th>\n",
       "      <td>49</td>\n",
       "      <td>59448.40</td>\n",
       "      <td>1</td>\n",
       "      <td>Venezuela</td>\n",
       "      <td>150.83</td>\n",
       "      <td>41.16</td>\n",
       "      <td>1</td>\n",
       "      <td>2016-03-28 09:15:58</td>\n",
       "      <td>Configurable interactive contingency</td>\n",
       "      <td>Hendrixmouth</td>\n",
       "      <td>9</td>\n",
       "      <td>0</td>\n",
       "      <td>1</td>\n",
       "    </tr>\n",
       "  </tbody>\n",
       "</table>\n",
       "</div>"
      ],
      "text/plain": [
       "   Age  Area Income  Clicked on Ad         Country  Daily Internet Usage  \\\n",
       "0   49     39031.89              1   Cote d'Ivoire                113.80   \n",
       "1   34     75769.82              0  Czech Republic                191.81   \n",
       "2   21     42162.90              0         Eritrea                218.60   \n",
       "3   49     59448.40              1       Venezuela                150.83   \n",
       "\n",
       "   Daily Time Spent on Site  Male            Timestamp  \\\n",
       "0                     66.12     0  2016-02-15 07:27:41   \n",
       "1                     72.81     1  2016-01-27 16:06:05   \n",
       "2                     65.76     1  2016-03-18 17:35:40   \n",
       "3                     41.16     1  2016-03-28 09:15:58   \n",
       "\n",
       "                          Ad Topic Line                 City Timestamp_hour  \\\n",
       "0     Stand-alone motivating moratorium  South Alexisborough              7   \n",
       "1         User-centric discrete success           Jonesmouth             16   \n",
       "2   Function-based fault-tolerant model       Contrerasshire             17   \n",
       "3  Configurable interactive contingency         Hendrixmouth              9   \n",
       "\n",
       "  Timestamp_weekday  forClass  \n",
       "0                 0         1  \n",
       "1                 2         0  \n",
       "2                 4         0  \n",
       "3                 0         1  "
      ]
     },
     "execution_count": 30,
     "metadata": {},
     "output_type": "execute_result"
    }
   ],
   "source": [
    "predictsave(pd.DataFrame(manual),'advertising','./work/pred_advertising')"
   ]
  },
  {
   "cell_type": "code",
   "execution_count": 31,
   "metadata": {
    "collapsed": false
   },
   "outputs": [
    {
     "data": {
      "text/plain": [
       "[]"
      ]
     },
     "execution_count": 31,
     "metadata": {},
     "output_type": "execute_result"
    }
   ],
   "source": [
    "dataset._drops"
   ]
  },
  {
   "cell_type": "markdown",
   "metadata": {},
   "source": [
    "# BATCH PREDICTIONS"
   ]
  },
  {
   "cell_type": "code",
   "execution_count": null,
   "metadata": {
    "collapsed": false
   },
   "outputs": [],
   "source": [
    "predictsave(pd.read_csv('./work/autopred.csv'),'auto','./work/pred_auto3').head(5)"
   ]
  },
  {
   "cell_type": "code",
   "execution_count": null,
   "metadata": {
    "collapsed": false
   },
   "outputs": [],
   "source": [
    "dataset.save('./work/startups',mode='csv')"
   ]
  },
  {
   "cell_type": "code",
   "execution_count": null,
   "metadata": {
    "collapsed": true
   },
   "outputs": [],
   "source": []
  }
 ],
 "metadata": {
  "kernelspec": {
   "display_name": "Python 3",
   "language": "python",
   "name": "python3"
  },
  "language_info": {
   "codemirror_mode": {
    "name": "ipython",
    "version": 3
   },
   "file_extension": ".py",
   "mimetype": "text/x-python",
   "name": "python",
   "nbconvert_exporter": "python",
   "pygments_lexer": "ipython3",
   "version": "3.5.4"
  }
 },
 "nbformat": 4,
 "nbformat_minor": 2
}
