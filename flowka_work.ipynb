{
 "cells": [
  {
   "cell_type": "code",
   "execution_count": 1,
   "metadata": {
    "collapsed": false
   },
   "outputs": [],
   "source": [
    "import numpy as np\n",
    "import pandas as pd\n",
    "%matplotlib inline\n",
    "from flowkapd import fpd\n",
    "from flowkamo import fmo\n",
    "from flowkafunc import *\n",
    "from sklearn.model_selection import train_test_split"
   ]
  },
  {
   "cell_type": "markdown",
   "metadata": {},
   "source": [
    "# LOAD DATA"
   ]
  },
  {
   "cell_type": "code",
   "execution_count": 38,
   "metadata": {
    "collapsed": false
   },
   "outputs": [],
   "source": [
    "from sklearn import datasets\n",
    "a,b=datasets.make_blobs(n_samples=500, n_features=4, shuffle=True)\n",
    "blobs=pd.concat([pd.DataFrame(a,columns=['tv','radio','web','newspaper']),pd.DataFrame(b,columns=['R'])],axis=1)\n",
    "a,b=datasets.make_classification(n_samples=500, shuffle=True, n_features=5)\n",
    "classif=pd.concat([pd.DataFrame(a,columns=['A','B','C','D','E']),pd.DataFrame(b,columns=['R'])],axis=1)\n",
    "a,b=datasets.make_s_curve(n_samples=500)\n",
    "curves=pd.concat([pd.DataFrame(a,columns=['X','Y','Z']),pd.DataFrame(c,columns=['R'])],axis=1)\n",
    "dataset=fpd(blobs,'blobs')\n",
    "datasets.make_regression(n_samples=100,n_features=3,)\n",
    "a,b=datasets.make_friedman2()\n",
    "fried=pd.concat([pd.DataFrame(a,columns=['X','Y','Z','T']),pd.DataFrame(b,columns=['R'])],axis=1)\n"
   ]
  },
  {
   "cell_type": "code",
   "execution_count": 39,
   "metadata": {
    "collapsed": false
   },
   "outputs": [],
   "source": [
    "dataset=fpd(fried,'fried')"
   ]
  },
  {
   "cell_type": "code",
   "execution_count": 40,
   "metadata": {
    "collapsed": false
   },
   "outputs": [
    {
     "name": "stdout",
     "output_type": "stream",
     "text": [
      "data exported to ./work/fried.csv\n"
     ]
    }
   ],
   "source": [
    "dataset.save('./work/fried',mode='csv')"
   ]
  },
  {
   "cell_type": "code",
   "execution_count": null,
   "metadata": {
    "collapsed": false
   },
   "outputs": [],
   "source": [
    "#dataset=fpd(pd.read_csv(\"http://www.ladrauniere.fr/opendata/advertising.csv\"),'advertising')\n",
    "dataset=fpd(a,'imc')"
   ]
  },
  {
   "cell_type": "code",
   "execution_count": null,
   "metadata": {
    "collapsed": false
   },
   "outputs": [],
   "source": [
    "dataset.version\n",
    "dataset.fmd.load()\n",
    "dataset.fmd.suggested_param()"
   ]
  },
  {
   "cell_type": "code",
   "execution_count": null,
   "metadata": {
    "collapsed": false,
    "scrolled": true
   },
   "outputs": [],
   "source": [
    "dataset.df.sample(n=5).head(5)"
   ]
  },
  {
   "cell_type": "markdown",
   "metadata": {},
   "source": [
    "# CLEAN DATA"
   ]
  },
  {
   "cell_type": "code",
   "execution_count": null,
   "metadata": {
    "collapsed": false
   },
   "outputs": [],
   "source": [
    "#dataset.set_frequencies(freqlist=['Country'])\n",
    "#dataset.targets='Clicked on Ad'\n",
    "#dataset.automatic_drop()\n",
    "#dataset.drop=['Ad Topic Line', 'City', 'Timestamp']\n",
    "#dataset.savelog()\n",
    "dlogs=dataset.loadlog()\n",
    "dlogs"
   ]
  },
  {
   "cell_type": "code",
   "execution_count": null,
   "metadata": {
    "collapsed": false
   },
   "outputs": [],
   "source": [
    "dataset.batch()\n",
    "dataset.drop=['R']\n",
    "dataset.targets='genre'"
   ]
  },
  {
   "cell_type": "code",
   "execution_count": null,
   "metadata": {
    "collapsed": true
   },
   "outputs": [],
   "source": [
    "#from sklearn.ensemble import RandomForestClassifier\n",
    "#model=RandomForestClassifier(n_estimators=600)\n",
    "#X,y=dataset.df.iloc[:,:-1],dataset.df.iloc[:,-1]\n",
    "#X_train, X_test, y_train, y_test = train_test_split(X, y, test_size=0.3, random_state=101)\n",
    "#model.fit(X_train,y_train)\n",
    "#predictions = model.predict(X_test)\n"
   ]
  },
  {
   "cell_type": "code",
   "execution_count": null,
   "metadata": {
    "collapsed": false
   },
   "outputs": [],
   "source": [
    "dataset.clusters=None"
   ]
  },
  {
   "cell_type": "code",
   "execution_count": null,
   "metadata": {
    "collapsed": false
   },
   "outputs": [],
   "source": [
    "dataset.missing_values()"
   ]
  },
  {
   "cell_type": "markdown",
   "metadata": {
    "collapsed": false
   },
   "source": [
    "# TRAINING"
   ]
  },
  {
   "cell_type": "code",
   "execution_count": null,
   "metadata": {
    "collapsed": false
   },
   "outputs": [],
   "source": [
    "mo=fmo(dataset)"
   ]
  },
  {
   "cell_type": "code",
   "execution_count": null,
   "metadata": {
    "collapsed": false
   },
   "outputs": [],
   "source": [
    "mo.scale()"
   ]
  },
  {
   "cell_type": "code",
   "execution_count": null,
   "metadata": {
    "collapsed": false
   },
   "outputs": [],
   "source": [
    "#mo.best_predict(mo.detect_algo())\n",
    "mo.algo='treeClass'"
   ]
  },
  {
   "cell_type": "code",
   "execution_count": null,
   "metadata": {
    "collapsed": false
   },
   "outputs": [],
   "source": [
    "mo.unscale()"
   ]
  },
  {
   "cell_type": "code",
   "execution_count": null,
   "metadata": {
    "collapsed": false
   },
   "outputs": [],
   "source": [
    "mo.reports()"
   ]
  },
  {
   "cell_type": "code",
   "execution_count": null,
   "metadata": {
    "collapsed": false
   },
   "outputs": [],
   "source": [
    " mo.save_model()"
   ]
  },
  {
   "cell_type": "markdown",
   "metadata": {},
   "source": [
    "# NEW PREDICTIONS"
   ]
  },
  {
   "cell_type": "markdown",
   "metadata": {},
   "source": [
    "**load data**"
   ]
  },
  {
   "cell_type": "code",
   "execution_count": null,
   "metadata": {
    "collapsed": false
   },
   "outputs": [],
   "source": [
    "#predictor=fpd(pd.read_csv(\"http://www.ladrauniere.fr/opendata/advertising.csv\").sample(n=20),'advertising')\n",
    "#predictor=fpd(pd.read_csv(\"flowka_Advertising_preds.csv\"),'advertising')\n",
    "predictor=fpd(a,'imc')"
   ]
  },
  {
   "cell_type": "markdown",
   "metadata": {},
   "source": [
    "**Clean new data **<br>\n",
    "with same rules as training data"
   ]
  },
  {
   "cell_type": "code",
   "execution_count": null,
   "metadata": {
    "collapsed": false
   },
   "outputs": [],
   "source": [
    "plogs=predictor.loadlog()\n",
    "plogs"
   ]
  },
  {
   "cell_type": "code",
   "execution_count": null,
   "metadata": {
    "collapsed": false
   },
   "outputs": [],
   "source": [
    "predictor.batch()\n",
    "predictor.targets='genre'"
   ]
  },
  {
   "cell_type": "code",
   "execution_count": null,
   "metadata": {
    "collapsed": false
   },
   "outputs": [],
   "source": [
    "predictor.targets"
   ]
  },
  {
   "cell_type": "markdown",
   "metadata": {
    "collapsed": true
   },
   "source": [
    "**Load trained model**"
   ]
  },
  {
   "cell_type": "code",
   "execution_count": null,
   "metadata": {
    "collapsed": true
   },
   "outputs": [],
   "source": [
    "mo2=fmo(predictor)"
   ]
  },
  {
   "cell_type": "code",
   "execution_count": null,
   "metadata": {
    "collapsed": false
   },
   "outputs": [],
   "source": [
    "mo2.load_model()"
   ]
  },
  {
   "cell_type": "markdown",
   "metadata": {},
   "source": [
    "**rescale data**"
   ]
  },
  {
   "cell_type": "code",
   "execution_count": null,
   "metadata": {
    "collapsed": false
   },
   "outputs": [],
   "source": [
    "mo2.rescale()"
   ]
  },
  {
   "cell_type": "markdown",
   "metadata": {},
   "source": [
    "**Predict new data **"
   ]
  },
  {
   "cell_type": "code",
   "execution_count": null,
   "metadata": {
    "collapsed": false
   },
   "outputs": [],
   "source": [
    "y=mo2.predict()"
   ]
  },
  {
   "cell_type": "code",
   "execution_count": null,
   "metadata": {
    "collapsed": false
   },
   "outputs": [],
   "source": [
    "predictor.add(pd.DataFrame(y,columns=['predictions']))"
   ]
  },
  {
   "cell_type": "code",
   "execution_count": null,
   "metadata": {
    "collapsed": false
   },
   "outputs": [],
   "source": [
    "predictor.head()"
   ]
  },
  {
   "cell_type": "markdown",
   "metadata": {},
   "source": [
    "## SAVE DATA WITH PREDICTIONS"
   ]
  },
  {
   "cell_type": "code",
   "execution_count": null,
   "metadata": {
    "collapsed": false
   },
   "outputs": [],
   "source": [
    "predictor.save(pdfile='flowka_Advertising_preds.csv',mode='csv')\n"
   ]
  },
  {
   "cell_type": "markdown",
   "metadata": {},
   "source": [
    "# MANUAL TEST"
   ]
  },
  {
   "cell_type": "markdown",
   "metadata": {
    "collapsed": true
   },
   "source": [
    "** SMALL MANUAL TEST ** \n",
    "copy and paste the result behind<br>\n",
    "to modify manually a set of data"
   ]
  },
  {
   "cell_type": "code",
   "execution_count": null,
   "metadata": {
    "collapsed": false
   },
   "outputs": [],
   "source": [
    "from flowkapr import fpr"
   ]
  },
  {
   "cell_type": "code",
   "execution_count": null,
   "metadata": {
    "collapsed": false
   },
   "outputs": [],
   "source": [
    "fpr=fpr(dataset=None,'advertising')"
   ]
  },
  {
   "cell_type": "code",
   "execution_count": null,
   "metadata": {
    "collapsed": false
   },
   "outputs": [],
   "source": [
    "dataset.sample_template()"
   ]
  },
  {
   "cell_type": "code",
   "execution_count": null,
   "metadata": {
    "collapsed": true
   },
   "outputs": [],
   "source": [
    "a={\n",
    "'Age': [30,51],\n",
    "'genre': [0,1],\n",
    "'taille': [161,177],\n",
    "'poids': [59,84] \n",
    "}"
   ]
  },
  {
   "cell_type": "code",
   "execution_count": null,
   "metadata": {
    "collapsed": false
   },
   "outputs": [],
   "source": [
    "fpr=fpr(manual,dataset.name)\n",
    "\n",
    "fpr.samples_predict(manual)"
   ]
  },
  {
   "cell_type": "code",
   "execution_count": null,
   "metadata": {
    "collapsed": false
   },
   "outputs": [],
   "source": [
    "manual='r'\n",
    "if type(manual)==dict:\n",
    "    print('dict')\n",
    "elif str(type(dataset))==\"<class 'flowkapd.fpd'>\":\n",
    "    print('flowkapd.fpd')\n",
    "else:\n",
    "    print(\"errpor\")\n",
    "    "
   ]
  },
  {
   "cell_type": "code",
   "execution_count": null,
   "metadata": {
    "collapsed": false
   },
   "outputs": [],
   "source": [
    "a={'Age':[20,22,50,52,13,14,16,48,30,47,45,46,49],\n",
    " 'poids':[65,68,52,79,48,53,60,55,52,54,62,81,85],\n",
    "'taille':[173,169,164,175,160,162,167,165,163,164,168,183,181],\n",
    "'genre':[1,0,0,1,1,1,0,0,0,0,0,1,1],\n",
    "'cat':['mix','bar','mix','sec','foo','bar','bar','foo','mix','bar','sec',np.nan,None]}"
   ]
  },
  {
   "cell_type": "code",
   "execution_count": null,
   "metadata": {
    "collapsed": true
   },
   "outputs": [],
   "source": [
    "a={'size':[173,169,164,175,160],\n",
    "'type':[1,0,0,1,1],\n",
    "'cat':['foo','bar','foo',np.nan,None]}"
   ]
  },
  {
   "cell_type": "code",
   "execution_count": null,
   "metadata": {
    "collapsed": false
   },
   "outputs": [],
   "source": [
    "import pandas as pd\n",
    "a=pd.DataFrame(a)\n",
    "dataset=fpd(a,'imc')"
   ]
  },
  {
   "cell_type": "code",
   "execution_count": null,
   "metadata": {
    "collapsed": false
   },
   "outputs": [],
   "source": [
    "col='cat'\n",
    "mylist=None\n",
    "def newdum (self,col,mylist=None):\n",
    "    "
   ]
  },
  {
   "cell_type": "code",
   "execution_count": null,
   "metadata": {
    "collapsed": false
   },
   "outputs": [],
   "source": [
    "newdum(a,col)"
   ]
  },
  {
   "cell_type": "code",
   "execution_count": null,
   "metadata": {
    "collapsed": false
   },
   "outputs": [],
   "source": [
    "import pandas as pd\n",
    "a=pd.DataFrame({'cat':['mix','bar','foo','sec',np.nan],'x':[1,2,3,4,5]})\n",
    "a"
   ]
  },
  {
   "cell_type": "code",
   "execution_count": null,
   "metadata": {
    "collapsed": false
   },
   "outputs": [],
   "source": [
    "def newdum(a,col):\n",
    "    mylist=list(a[col].unique())\n",
    "    for subcol in mylist:\n",
    "        if subcol is not np.nan:\n",
    "            a[col+'_'+str(subcol)]=a[col].apply(lambda x : 1 if ~pd.isnull(x) and x==subcol else 0)\n",
    "    return a\n",
    "newdum(dataset.,'cat')"
   ]
  },
  {
   "cell_type": "code",
   "execution_count": null,
   "metadata": {
    "collapsed": false
   },
   "outputs": [],
   "source": [
    "dataset.df['cat'].cat.categories"
   ]
  },
  {
   "cell_type": "code",
   "execution_count": null,
   "metadata": {
    "collapsed": false
   },
   "outputs": [],
   "source": [
    "dataset.df['cat'].cat.codes"
   ]
  },
  {
   "cell_type": "code",
   "execution_count": null,
   "metadata": {
    "collapsed": true
   },
   "outputs": [],
   "source": [
    "a=[1,2,3,4]\n"
   ]
  },
  {
   "cell_type": "code",
   "execution_count": null,
   "metadata": {
    "collapsed": false
   },
   "outputs": [],
   "source": [
    "try:\n",
    "    a.remove(None)\n",
    "except:\n",
    "    False\n",
    "\n"
   ]
  },
  {
   "cell_type": "code",
   "execution_count": null,
   "metadata": {
    "collapsed": true
   },
   "outputs": [],
   "source": []
  }
 ],
 "metadata": {
  "kernelspec": {
   "display_name": "Python 3",
   "language": "python",
   "name": "python3"
  },
  "language_info": {
   "codemirror_mode": {
    "name": "ipython",
    "version": 3
   },
   "file_extension": ".py",
   "mimetype": "text/x-python",
   "name": "python",
   "nbconvert_exporter": "python",
   "pygments_lexer": "ipython3",
   "version": "3.5.4"
  }
 },
 "nbformat": 4,
 "nbformat_minor": 0
}
