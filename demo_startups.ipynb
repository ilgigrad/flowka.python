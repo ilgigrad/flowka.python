{
 "cells": [
  {
   "cell_type": "code",
   "execution_count": 1,
   "metadata": {
    "collapsed": true
   },
   "outputs": [],
   "source": [
    "import pandas as pd\n",
    "from flowkapd import fpd\n",
    "from flowkamo import fmo\n",
    "from flowkapr import predictsave\n",
    "pd.set_option('display.max_columns', 500)\n",
    "import warnings\n",
    "warnings.filterwarnings(\"ignore\")"
   ]
  },
  {
   "cell_type": "code",
   "execution_count": 2,
   "metadata": {
    "collapsed": false
   },
   "outputs": [
    {
     "name": "stdout",
     "output_type": "stream",
     "text": [
      "algos : ['linRegr', 'polRegr', 'forRegr', 'treeRegr']\n",
      "linRegr\n",
      "linRegr : Linear Regression\n",
      "Error:10495.03313800369\n",
      "polRegr\n",
      "polRegr : Polynomial Regression\n",
      "Error:23529.60838428935\n",
      "forRegr\n",
      "forRegr : Random Forest Regressor\n",
      "Error:10289.377348438184\n",
      "treeRegr\n",
      "treeRegr : Decision Tree Regressor\n",
      "Error:15996.457093483754\n",
      "choose : forRegr\n",
      "\n",
      "forRegr : Random Forest Regressor\n",
      "model ./work/flowka_model_startups.dat saved\n"
     ]
    }
   ],
   "source": [
    "dataset=fpd(pd.read_csv(\"http://www.ladrauniere.fr/opendata/50_Startups.csv\"),'startups')\n",
    "dataset._talk.quiet\n",
    "dataset.batch()\n",
    "mo=fmo(dataset)\n",
    "mo.scale()\n",
    "mo.best_predict(mo.detect_algo())\n",
    "mo.reports\n",
    "mo.save_model()"
   ]
  },
  {
   "cell_type": "code",
   "execution_count": 3,
   "metadata": {
    "collapsed": true
   },
   "outputs": [],
   "source": [
    "manual={\n",
    "    'R&D Spend': [46426],\n",
    "    'Marketing Spend': [182646],\n",
    "    'Administration': [148001],\n",
    "    'State': ['New York'],\n",
    "    'Profit': [182902]\n",
    "}"
   ]
  },
  {
   "cell_type": "code",
   "execution_count": 8,
   "metadata": {
    "collapsed": false
   },
   "outputs": [
    {
     "name": "stdout",
     "output_type": "stream",
     "text": [
      "model ./work/flowka_model_startups.dat loaded\n",
      "data exported to ./work/pred_startups.csv\n"
     ]
    },
    {
     "data": {
      "text/html": [
       "<div>\n",
       "<style>\n",
       "    .dataframe thead tr:only-child th {\n",
       "        text-align: right;\n",
       "    }\n",
       "\n",
       "    .dataframe thead th {\n",
       "        text-align: left;\n",
       "    }\n",
       "\n",
       "    .dataframe tbody tr th {\n",
       "        vertical-align: top;\n",
       "    }\n",
       "</style>\n",
       "<table border=\"1\" class=\"dataframe\">\n",
       "  <thead>\n",
       "    <tr style=\"text-align: right;\">\n",
       "      <th></th>\n",
       "      <th>Administration</th>\n",
       "      <th>Marketing Spend</th>\n",
       "      <th>R&amp;D Spend</th>\n",
       "      <th>State</th>\n",
       "      <th>forRegr</th>\n",
       "    </tr>\n",
       "  </thead>\n",
       "  <tbody>\n",
       "    <tr>\n",
       "      <th>0</th>\n",
       "      <td>182645.56</td>\n",
       "      <td>148001.11</td>\n",
       "      <td>146426.07</td>\n",
       "      <td>New York</td>\n",
       "      <td>163598.989833</td>\n",
       "    </tr>\n",
       "  </tbody>\n",
       "</table>\n",
       "</div>"
      ],
      "text/plain": [
       "   Administration  Marketing Spend  R&D Spend     State        forRegr\n",
       "0       182645.56        148001.11  146426.07  New York  163598.989833"
      ]
     },
     "execution_count": 8,
     "metadata": {},
     "output_type": "execute_result"
    }
   ],
   "source": [
    "predictsave(pd.DataFrame(manual),'startups')"
   ]
  },
  {
   "cell_type": "code",
   "execution_count": null,
   "metadata": {
    "collapsed": true
   },
   "outputs": [],
   "source": []
  }
 ],
 "metadata": {
  "kernelspec": {
   "display_name": "Python 3",
   "language": "python",
   "name": "python3"
  },
  "language_info": {
   "codemirror_mode": {
    "name": "ipython",
    "version": 3
   },
   "file_extension": ".py",
   "mimetype": "text/x-python",
   "name": "python",
   "nbconvert_exporter": "python",
   "pygments_lexer": "ipython3",
   "version": "3.5.4"
  }
 },
 "nbformat": 4,
 "nbformat_minor": 0
}
